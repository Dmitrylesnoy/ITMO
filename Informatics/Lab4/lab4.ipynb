{
 "cells": [
  {
   "cell_type": "markdown",
   "metadata": {},
   "source": [
    "### Вариант 13\n",
    "466513 \\\n",
    "13 % 36 = 13\n",
    "| Вариант | Исходный формат  | Результ. формат | Дни недели |\n",
    "| --- | --- | --- | --- |\n",
    "| 13 | XML | JSON | Среда, суббота | \n",
    "\n",
    "https://itmo.ru/ru/schedule/3/125598/raspisanie_zanyatiy.htm"
   ]
  },
  {
   "cell_type": "code",
   "execution_count": null,
   "metadata": {},
   "outputs": [],
   "source": [
    "xml_s = open(\"schedulexml.txt\",'r').readlines\n"
   ]
  }
 ],
 "metadata": {
  "kernelspec": {
   "display_name": "Python 3",
   "language": "python",
   "name": "python3"
  },
  "language_info": {
   "codemirror_mode": {
    "name": "ipython",
    "version": 3
   },
   "file_extension": ".py",
   "mimetype": "text/x-python",
   "name": "python",
   "nbconvert_exporter": "python",
   "pygments_lexer": "ipython3",
   "version": "3.11.9"
  }
 },
 "nbformat": 4,
 "nbformat_minor": 2
}
